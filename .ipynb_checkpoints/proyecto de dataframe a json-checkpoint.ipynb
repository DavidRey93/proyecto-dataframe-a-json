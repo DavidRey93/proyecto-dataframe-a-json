{
 "cells": [
  {
   "cell_type": "code",
   "execution_count": 4,
   "id": "c61b09ee",
   "metadata": {},
   "outputs": [],
   "source": [
    "import os\n",
    "import pandas as pd\n",
    "import json"
   ]
  },
  {
   "cell_type": "code",
   "execution_count": 5,
   "id": "146ff51f",
   "metadata": {},
   "outputs": [
    {
     "data": {
      "text/plain": [
       "'C:\\\\Users\\\\David Rey\\\\Formato_json_ejercicio'"
      ]
     },
     "execution_count": 5,
     "metadata": {},
     "output_type": "execute_result"
    }
   ],
   "source": [
    "os.getcwd()"
   ]
  },
  {
   "cell_type": "code",
   "execution_count": 7,
   "id": "95c86c0e",
   "metadata": {},
   "outputs": [],
   "source": [
    "os.chdir(r\"C:\\Users\\David Rey\\Formato_json_ejercicio\\mapping-data\\sample_data\")"
   ]
  },
  {
   "cell_type": "code",
   "execution_count": 9,
   "id": "a86d8991",
   "metadata": {},
   "outputs": [
    {
     "data": {
      "text/plain": [
       "'C:\\\\Users\\\\David Rey\\\\Formato_json_ejercicio\\\\mapping-data\\\\sample_data'"
      ]
     },
     "execution_count": 9,
     "metadata": {},
     "output_type": "execute_result"
    }
   ],
   "source": [
    "os.getcwd()"
   ]
  },
  {
   "cell_type": "code",
   "execution_count": 10,
   "id": "0cabf351",
   "metadata": {},
   "outputs": [],
   "source": [
    "df=pd.read_csv(\"wine-ratings.csv\")"
   ]
  },
  {
   "cell_type": "code",
   "execution_count": 11,
   "id": "b1ba188d",
   "metadata": {},
   "outputs": [
    {
     "data": {
      "text/html": [
       "<div>\n",
       "<style scoped>\n",
       "    .dataframe tbody tr th:only-of-type {\n",
       "        vertical-align: middle;\n",
       "    }\n",
       "\n",
       "    .dataframe tbody tr th {\n",
       "        vertical-align: top;\n",
       "    }\n",
       "\n",
       "    .dataframe thead th {\n",
       "        text-align: right;\n",
       "    }\n",
       "</style>\n",
       "<table border=\"1\" class=\"dataframe\">\n",
       "  <thead>\n",
       "    <tr style=\"text-align: right;\">\n",
       "      <th></th>\n",
       "      <th>Unnamed: 0</th>\n",
       "      <th>name</th>\n",
       "      <th>grape</th>\n",
       "      <th>region</th>\n",
       "      <th>variety</th>\n",
       "      <th>rating</th>\n",
       "      <th>notes</th>\n",
       "    </tr>\n",
       "  </thead>\n",
       "  <tbody>\n",
       "    <tr>\n",
       "      <th>0</th>\n",
       "      <td>0</td>\n",
       "      <td>1000 Stories Bourbon Barrel Aged Batch Blue Ca...</td>\n",
       "      <td>NaN</td>\n",
       "      <td>Mendocino, California</td>\n",
       "      <td>Red Wine</td>\n",
       "      <td>91.0</td>\n",
       "      <td>This is a very special, limited release of 100...</td>\n",
       "    </tr>\n",
       "    <tr>\n",
       "      <th>1</th>\n",
       "      <td>1</td>\n",
       "      <td>1000 Stories Bourbon Barrel Aged Gold Rush Red...</td>\n",
       "      <td>NaN</td>\n",
       "      <td>California</td>\n",
       "      <td>Red Wine</td>\n",
       "      <td>89.0</td>\n",
       "      <td>The California Gold Rush was a period of coura...</td>\n",
       "    </tr>\n",
       "    <tr>\n",
       "      <th>2</th>\n",
       "      <td>2</td>\n",
       "      <td>1000 Stories Bourbon Barrel Aged Gold Rush Red...</td>\n",
       "      <td>NaN</td>\n",
       "      <td>California</td>\n",
       "      <td>Red Wine</td>\n",
       "      <td>90.0</td>\n",
       "      <td>The California Gold Rush was a period of coura...</td>\n",
       "    </tr>\n",
       "    <tr>\n",
       "      <th>3</th>\n",
       "      <td>3</td>\n",
       "      <td>1000 Stories Bourbon Barrel Aged Zinfandel 2013</td>\n",
       "      <td>NaN</td>\n",
       "      <td>North Coast, California</td>\n",
       "      <td>Red Wine</td>\n",
       "      <td>91.0</td>\n",
       "      <td>The wine has a deep, rich purple color. An int...</td>\n",
       "    </tr>\n",
       "    <tr>\n",
       "      <th>4</th>\n",
       "      <td>4</td>\n",
       "      <td>1000 Stories Bourbon Barrel Aged Zinfandel 2014</td>\n",
       "      <td>NaN</td>\n",
       "      <td>California</td>\n",
       "      <td>Red Wine</td>\n",
       "      <td>90.0</td>\n",
       "      <td>Batch #004 is the first release of the 2014 vi...</td>\n",
       "    </tr>\n",
       "    <tr>\n",
       "      <th>...</th>\n",
       "      <td>...</td>\n",
       "      <td>...</td>\n",
       "      <td>...</td>\n",
       "      <td>...</td>\n",
       "      <td>...</td>\n",
       "      <td>...</td>\n",
       "      <td>...</td>\n",
       "    </tr>\n",
       "    <tr>\n",
       "      <th>32775</th>\n",
       "      <td>32775</td>\n",
       "      <td>Lewis Cellars Syrah Ethan's Blend 2005</td>\n",
       "      <td>NaN</td>\n",
       "      <td>California</td>\n",
       "      <td>Red Wine</td>\n",
       "      <td>92.0</td>\n",
       "      <td>Now 7 years old, Alec's younger brother Ethan ...</td>\n",
       "    </tr>\n",
       "    <tr>\n",
       "      <th>32776</th>\n",
       "      <td>32776</td>\n",
       "      <td>Lewis Cellars Syrah Ethan's Blend 2014</td>\n",
       "      <td>NaN</td>\n",
       "      <td>California</td>\n",
       "      <td>Red Wine</td>\n",
       "      <td>93.0</td>\n",
       "      <td>Born in 2000, everything about Ethan and his n...</td>\n",
       "    </tr>\n",
       "    <tr>\n",
       "      <th>32777</th>\n",
       "      <td>32777</td>\n",
       "      <td>Lewis Cellars Syrah Ethan's Blend 2009</td>\n",
       "      <td>NaN</td>\n",
       "      <td>California</td>\n",
       "      <td>Red Wine</td>\n",
       "      <td>94.0</td>\n",
       "      <td>Positioned between brothers, Alec and Mason, E...</td>\n",
       "    </tr>\n",
       "    <tr>\n",
       "      <th>32778</th>\n",
       "      <td>32778</td>\n",
       "      <td>Lexington Apex Red 2011</td>\n",
       "      <td>NaN</td>\n",
       "      <td>Santa Cruz Mountains, California</td>\n",
       "      <td>Red Wine</td>\n",
       "      <td>91.0</td>\n",
       "      <td>Blend: 99% Cabernet Sauvignon, 1% Merlot</td>\n",
       "    </tr>\n",
       "    <tr>\n",
       "      <th>32779</th>\n",
       "      <td>32779</td>\n",
       "      <td>Lexington Gist Ranch Cabernet Sauvignon 2011</td>\n",
       "      <td>NaN</td>\n",
       "      <td>Santa Cruz Mountains, California</td>\n",
       "      <td>Red Wine</td>\n",
       "      <td>91.0</td>\n",
       "      <td>Blend: 80% Cabernet Sauvignon, 20% Merlot</td>\n",
       "    </tr>\n",
       "  </tbody>\n",
       "</table>\n",
       "<p>32780 rows × 7 columns</p>\n",
       "</div>"
      ],
      "text/plain": [
       "       Unnamed: 0                                               name  grape  \\\n",
       "0               0  1000 Stories Bourbon Barrel Aged Batch Blue Ca...    NaN   \n",
       "1               1  1000 Stories Bourbon Barrel Aged Gold Rush Red...    NaN   \n",
       "2               2  1000 Stories Bourbon Barrel Aged Gold Rush Red...    NaN   \n",
       "3               3    1000 Stories Bourbon Barrel Aged Zinfandel 2013    NaN   \n",
       "4               4    1000 Stories Bourbon Barrel Aged Zinfandel 2014    NaN   \n",
       "...           ...                                                ...    ...   \n",
       "32775       32775             Lewis Cellars Syrah Ethan's Blend 2005    NaN   \n",
       "32776       32776             Lewis Cellars Syrah Ethan's Blend 2014    NaN   \n",
       "32777       32777             Lewis Cellars Syrah Ethan's Blend 2009    NaN   \n",
       "32778       32778                            Lexington Apex Red 2011    NaN   \n",
       "32779       32779       Lexington Gist Ranch Cabernet Sauvignon 2011    NaN   \n",
       "\n",
       "                                 region   variety  rating  \\\n",
       "0                 Mendocino, California  Red Wine    91.0   \n",
       "1                            California  Red Wine    89.0   \n",
       "2                            California  Red Wine    90.0   \n",
       "3               North Coast, California  Red Wine    91.0   \n",
       "4                            California  Red Wine    90.0   \n",
       "...                                 ...       ...     ...   \n",
       "32775                        California  Red Wine    92.0   \n",
       "32776                        California  Red Wine    93.0   \n",
       "32777                        California  Red Wine    94.0   \n",
       "32778  Santa Cruz Mountains, California  Red Wine    91.0   \n",
       "32779  Santa Cruz Mountains, California  Red Wine    91.0   \n",
       "\n",
       "                                                   notes  \n",
       "0      This is a very special, limited release of 100...  \n",
       "1      The California Gold Rush was a period of coura...  \n",
       "2      The California Gold Rush was a period of coura...  \n",
       "3      The wine has a deep, rich purple color. An int...  \n",
       "4      Batch #004 is the first release of the 2014 vi...  \n",
       "...                                                  ...  \n",
       "32775  Now 7 years old, Alec's younger brother Ethan ...  \n",
       "32776  Born in 2000, everything about Ethan and his n...  \n",
       "32777  Positioned between brothers, Alec and Mason, E...  \n",
       "32778          Blend: 99% Cabernet Sauvignon, 1% Merlot   \n",
       "32779          Blend: 80% Cabernet Sauvignon, 20% Merlot  \n",
       "\n",
       "[32780 rows x 7 columns]"
      ]
     },
     "execution_count": 11,
     "metadata": {},
     "output_type": "execute_result"
    }
   ],
   "source": [
    "df"
   ]
  },
  {
   "cell_type": "code",
   "execution_count": 12,
   "id": "b80b7be3",
   "metadata": {},
   "outputs": [
    {
     "data": {
      "text/plain": [
       "pandas.core.frame.DataFrame"
      ]
     },
     "execution_count": 12,
     "metadata": {},
     "output_type": "execute_result"
    }
   ],
   "source": [
    "type(df)"
   ]
  },
  {
   "cell_type": "code",
   "execution_count": 18,
   "id": "0eb2265e",
   "metadata": {},
   "outputs": [],
   "source": []
  },
  {
   "cell_type": "code",
   "execution_count": 51,
   "id": "94e2380e",
   "metadata": {},
   "outputs": [],
   "source": [
    "total=(df.loc[:,\"variety\"]==\"White Wine\") & (df.loc[:,\"rating\"]>90) & (df.loc[:,\"region\"]==\"Chile\")"
   ]
  },
  {
   "cell_type": "code",
   "execution_count": 52,
   "id": "1ebb4a35",
   "metadata": {},
   "outputs": [],
   "source": [
    "chilenian_white_wine=df[total]"
   ]
  },
  {
   "cell_type": "code",
   "execution_count": 53,
   "id": "47068736",
   "metadata": {},
   "outputs": [
    {
     "data": {
      "text/html": [
       "<div>\n",
       "<style scoped>\n",
       "    .dataframe tbody tr th:only-of-type {\n",
       "        vertical-align: middle;\n",
       "    }\n",
       "\n",
       "    .dataframe tbody tr th {\n",
       "        vertical-align: top;\n",
       "    }\n",
       "\n",
       "    .dataframe thead th {\n",
       "        text-align: right;\n",
       "    }\n",
       "</style>\n",
       "<table border=\"1\" class=\"dataframe\">\n",
       "  <thead>\n",
       "    <tr style=\"text-align: right;\">\n",
       "      <th></th>\n",
       "      <th>Unnamed: 0</th>\n",
       "      <th>name</th>\n",
       "      <th>grape</th>\n",
       "      <th>region</th>\n",
       "      <th>variety</th>\n",
       "      <th>rating</th>\n",
       "      <th>notes</th>\n",
       "    </tr>\n",
       "  </thead>\n",
       "  <tbody>\n",
       "    <tr>\n",
       "      <th>26</th>\n",
       "      <td>26</td>\n",
       "      <td>1865 Single Vineyard Sauvignon Blanc 2011</td>\n",
       "      <td>NaN</td>\n",
       "      <td>Chile</td>\n",
       "      <td>White Wine</td>\n",
       "      <td>91.0</td>\n",
       "      <td>Almost transparent pale yellow, young, with gr...</td>\n",
       "    </tr>\n",
       "    <tr>\n",
       "      <th>2214</th>\n",
       "      <td>2214</td>\n",
       "      <td>Arboleda Sauvignon Blanc 2008</td>\n",
       "      <td>NaN</td>\n",
       "      <td>Chile</td>\n",
       "      <td>White Wine</td>\n",
       "      <td>91.0</td>\n",
       "      <td>With the great aromatic intensity typical of a...</td>\n",
       "    </tr>\n",
       "    <tr>\n",
       "      <th>8451</th>\n",
       "      <td>8451</td>\n",
       "      <td>Casa Marin Cipreses Vineyard Sauvignon Blanc 2007</td>\n",
       "      <td>NaN</td>\n",
       "      <td>Chile</td>\n",
       "      <td>White Wine</td>\n",
       "      <td>95.0</td>\n",
       "      <td>\"From a granitic slope facing the Pacific Ocea...</td>\n",
       "    </tr>\n",
       "    <tr>\n",
       "      <th>8454</th>\n",
       "      <td>8454</td>\n",
       "      <td>Casa Marin Laurel Vineyard Sauvignon Blanc 2007</td>\n",
       "      <td>NaN</td>\n",
       "      <td>Chile</td>\n",
       "      <td>White Wine</td>\n",
       "      <td>94.0</td>\n",
       "      <td>The Laurel Vineyard located on a hillside slop...</td>\n",
       "    </tr>\n",
       "    <tr>\n",
       "      <th>8456</th>\n",
       "      <td>8456</td>\n",
       "      <td>Casa Marin Laurel Vineyard Sauvignon Blanc 2009</td>\n",
       "      <td>NaN</td>\n",
       "      <td>Chile</td>\n",
       "      <td>White Wine</td>\n",
       "      <td>91.0</td>\n",
       "      <td>The Laurel Vineyard located on a hillside slop...</td>\n",
       "    </tr>\n",
       "    <tr>\n",
       "      <th>8476</th>\n",
       "      <td>8476</td>\n",
       "      <td>Casa Silva Sauvignon Gris 2012</td>\n",
       "      <td>NaN</td>\n",
       "      <td>Chile</td>\n",
       "      <td>White Wine</td>\n",
       "      <td>91.0</td>\n",
       "      <td>Expressive and elegant with loads of white flo...</td>\n",
       "    </tr>\n",
       "    <tr>\n",
       "      <th>15397</th>\n",
       "      <td>15397</td>\n",
       "      <td>Concha y Toro Marques de Casa Concha Chardonna...</td>\n",
       "      <td>NaN</td>\n",
       "      <td>Chile</td>\n",
       "      <td>White Wine</td>\n",
       "      <td>91.0</td>\n",
       "      <td>\"Bold, with lots of spice and toast notes layi...</td>\n",
       "    </tr>\n",
       "    <tr>\n",
       "      <th>15400</th>\n",
       "      <td>15400</td>\n",
       "      <td>Concha y Toro Marques de Casa Concha Chardonna...</td>\n",
       "      <td>NaN</td>\n",
       "      <td>Chile</td>\n",
       "      <td>White Wine</td>\n",
       "      <td>91.0</td>\n",
       "      <td>Color: Light, golden yellow.</td>\n",
       "    </tr>\n",
       "    <tr>\n",
       "      <th>15521</th>\n",
       "      <td>15521</td>\n",
       "      <td>Cono Sur Vision Sauvignon Blanc 2011</td>\n",
       "      <td>NaN</td>\n",
       "      <td>Chile</td>\n",
       "      <td>White Wine</td>\n",
       "      <td>92.0</td>\n",
       "      <td>The strong Pacific Ocean influence and red cla...</td>\n",
       "    </tr>\n",
       "    <tr>\n",
       "      <th>16829</th>\n",
       "      <td>16829</td>\n",
       "      <td>De Martino Viejas Tinajas Muscat 2015</td>\n",
       "      <td>NaN</td>\n",
       "      <td>Chile</td>\n",
       "      <td>White Wine</td>\n",
       "      <td>92.0</td>\n",
       "      <td>Viejas Tinajas comes from the coastal vineyard...</td>\n",
       "    </tr>\n",
       "    <tr>\n",
       "      <th>21545</th>\n",
       "      <td>21545</td>\n",
       "      <td>Errazuriz Sauvignon Blanc 2009</td>\n",
       "      <td>NaN</td>\n",
       "      <td>Chile</td>\n",
       "      <td>White Wine</td>\n",
       "      <td>91.0</td>\n",
       "      <td>Very pale and slightly greenish-yellow in colo...</td>\n",
       "    </tr>\n",
       "    <tr>\n",
       "      <th>30311</th>\n",
       "      <td>30311</td>\n",
       "      <td>Kingston Family Cariblanco Sauvignon Blanc 2012</td>\n",
       "      <td>NaN</td>\n",
       "      <td>Chile</td>\n",
       "      <td>White Wine</td>\n",
       "      <td>91.0</td>\n",
       "      <td>NaN</td>\n",
       "    </tr>\n",
       "    <tr>\n",
       "      <th>31810</th>\n",
       "      <td>31810</td>\n",
       "      <td>Lapostolle Cuvee Alexandre Chardonnay 1999</td>\n",
       "      <td>NaN</td>\n",
       "      <td>Chile</td>\n",
       "      <td>White Wine</td>\n",
       "      <td>91.0</td>\n",
       "      <td>Attractive, brilliant golden-yellow color. Ver...</td>\n",
       "    </tr>\n",
       "    <tr>\n",
       "      <th>31816</th>\n",
       "      <td>31816</td>\n",
       "      <td>Lapostolle Cuvee Alexandre Chardonnay 2007</td>\n",
       "      <td>NaN</td>\n",
       "      <td>Chile</td>\n",
       "      <td>White Wine</td>\n",
       "      <td>91.0</td>\n",
       "      <td>Bright pale golden yellow with clean light lim...</td>\n",
       "    </tr>\n",
       "  </tbody>\n",
       "</table>\n",
       "</div>"
      ],
      "text/plain": [
       "       Unnamed: 0                                               name  grape  \\\n",
       "26             26          1865 Single Vineyard Sauvignon Blanc 2011    NaN   \n",
       "2214         2214                      Arboleda Sauvignon Blanc 2008    NaN   \n",
       "8451         8451  Casa Marin Cipreses Vineyard Sauvignon Blanc 2007    NaN   \n",
       "8454         8454    Casa Marin Laurel Vineyard Sauvignon Blanc 2007    NaN   \n",
       "8456         8456    Casa Marin Laurel Vineyard Sauvignon Blanc 2009    NaN   \n",
       "8476         8476                     Casa Silva Sauvignon Gris 2012    NaN   \n",
       "15397       15397  Concha y Toro Marques de Casa Concha Chardonna...    NaN   \n",
       "15400       15400  Concha y Toro Marques de Casa Concha Chardonna...    NaN   \n",
       "15521       15521               Cono Sur Vision Sauvignon Blanc 2011    NaN   \n",
       "16829       16829              De Martino Viejas Tinajas Muscat 2015    NaN   \n",
       "21545       21545                     Errazuriz Sauvignon Blanc 2009    NaN   \n",
       "30311       30311    Kingston Family Cariblanco Sauvignon Blanc 2012    NaN   \n",
       "31810       31810         Lapostolle Cuvee Alexandre Chardonnay 1999    NaN   \n",
       "31816       31816         Lapostolle Cuvee Alexandre Chardonnay 2007    NaN   \n",
       "\n",
       "      region     variety  rating  \\\n",
       "26     Chile  White Wine    91.0   \n",
       "2214   Chile  White Wine    91.0   \n",
       "8451   Chile  White Wine    95.0   \n",
       "8454   Chile  White Wine    94.0   \n",
       "8456   Chile  White Wine    91.0   \n",
       "8476   Chile  White Wine    91.0   \n",
       "15397  Chile  White Wine    91.0   \n",
       "15400  Chile  White Wine    91.0   \n",
       "15521  Chile  White Wine    92.0   \n",
       "16829  Chile  White Wine    92.0   \n",
       "21545  Chile  White Wine    91.0   \n",
       "30311  Chile  White Wine    91.0   \n",
       "31810  Chile  White Wine    91.0   \n",
       "31816  Chile  White Wine    91.0   \n",
       "\n",
       "                                                   notes  \n",
       "26     Almost transparent pale yellow, young, with gr...  \n",
       "2214   With the great aromatic intensity typical of a...  \n",
       "8451   \"From a granitic slope facing the Pacific Ocea...  \n",
       "8454   The Laurel Vineyard located on a hillside slop...  \n",
       "8456   The Laurel Vineyard located on a hillside slop...  \n",
       "8476   Expressive and elegant with loads of white flo...  \n",
       "15397  \"Bold, with lots of spice and toast notes layi...  \n",
       "15400                      Color: Light, golden yellow.   \n",
       "15521  The strong Pacific Ocean influence and red cla...  \n",
       "16829  Viejas Tinajas comes from the coastal vineyard...  \n",
       "21545  Very pale and slightly greenish-yellow in colo...  \n",
       "30311                                                NaN  \n",
       "31810  Attractive, brilliant golden-yellow color. Ver...  \n",
       "31816  Bright pale golden yellow with clean light lim...  "
      ]
     },
     "execution_count": 53,
     "metadata": {},
     "output_type": "execute_result"
    }
   ],
   "source": [
    "chilenian_white_wine"
   ]
  },
  {
   "cell_type": "code",
   "execution_count": null,
   "id": "6b6c48e7",
   "metadata": {},
   "outputs": [],
   "source": []
  },
  {
   "cell_type": "code",
   "execution_count": 48,
   "id": "ea0db7b1",
   "metadata": {},
   "outputs": [
    {
     "data": {
      "text/plain": [
       "'C:\\\\Users\\\\David Rey\\\\Formato_json_ejercicio\\\\mapping-data\\\\sample_data'"
      ]
     },
     "execution_count": 48,
     "metadata": {},
     "output_type": "execute_result"
    }
   ],
   "source": [
    "os.getcwd()"
   ]
  },
  {
   "cell_type": "code",
   "execution_count": 49,
   "id": "67fbacee",
   "metadata": {},
   "outputs": [],
   "source": [
    "os.chdir(r\"C:\\Users\\David Rey\\Formato_json_ejercicio\")"
   ]
  },
  {
   "cell_type": "code",
   "execution_count": 55,
   "id": "bbcdb10d",
   "metadata": {},
   "outputs": [
    {
     "data": {
      "text/plain": [
       "'C:\\\\Users\\\\David Rey\\\\Formato_json_ejercicio'"
      ]
     },
     "execution_count": 55,
     "metadata": {},
     "output_type": "execute_result"
    }
   ],
   "source": [
    "os.getcwd()"
   ]
  },
  {
   "cell_type": "code",
   "execution_count": null,
   "id": "d6d3a6ec",
   "metadata": {},
   "outputs": [],
   "source": []
  },
  {
   "cell_type": "code",
   "execution_count": 62,
   "id": "8558199b",
   "metadata": {},
   "outputs": [],
   "source": [
    "#convertir de dataframe a json\n",
    "json_data=chilenian_white_wine.to_json()"
   ]
  },
  {
   "cell_type": "code",
   "execution_count": 74,
   "id": "001963a0",
   "metadata": {},
   "outputs": [
    {
     "data": {
      "text/plain": [
       "str"
      ]
     },
     "execution_count": 74,
     "metadata": {},
     "output_type": "execute_result"
    }
   ],
   "source": [
    "type(json_data)"
   ]
  },
  {
   "cell_type": "code",
   "execution_count": 75,
   "id": "2961edc7",
   "metadata": {},
   "outputs": [
    {
     "data": {
      "text/plain": [
       "'{\"Unnamed: 0\":{\"26\":26,\"2214\":2214,\"8451\":8451,\"8454\":8454,\"8456\":8456,\"8476\":8476,\"15397\":15397,\"15400\":15400,\"15521\":15521,\"16829\":16829,\"21545\":21545,\"30311\":30311,\"31810\":31810,\"31816\":31816},\"name\":{\"26\":\"1865 Single Vineyard Sauvignon Blanc 2011\",\"2214\":\"Arboleda Sauvignon Blanc 2008\",\"8451\":\"Casa Marin Cipreses Vineyard Sauvignon Blanc 2007\",\"8454\":\"Casa Marin Laurel Vineyard Sauvignon Blanc 2007\",\"8456\":\"Casa Marin Laurel Vineyard Sauvignon Blanc 2009\",\"8476\":\"Casa Silva Sauvignon Gris 2012\",\"15397\":\"Concha y Toro Marques de Casa Concha Chardonnay 2002\",\"15400\":\"Concha y Toro Marques de Casa Concha Chardonnay 2005\",\"15521\":\"Cono Sur Vision Sauvignon Blanc 2011\",\"16829\":\"De Martino Viejas Tinajas Muscat 2015\",\"21545\":\"Errazuriz Sauvignon Blanc 2009\",\"30311\":\"Kingston Family Cariblanco Sauvignon Blanc 2012\",\"31810\":\"Lapostolle Cuvee Alexandre Chardonnay 1999\",\"31816\":\"Lapostolle Cuvee Alexandre Chardonnay 2007\"},\"grape\":{\"26\":null,\"2214\":null,\"8451\":null,\"8454\":null,\"8456\":null,\"8476\":null,\"15397\":null,\"15400\":null,\"15521\":null,\"16829\":null,\"21545\":null,\"30311\":null,\"31810\":null,\"31816\":null},\"region\":{\"26\":\"Chile\",\"2214\":\"Chile\",\"8451\":\"Chile\",\"8454\":\"Chile\",\"8456\":\"Chile\",\"8476\":\"Chile\",\"15397\":\"Chile\",\"15400\":\"Chile\",\"15521\":\"Chile\",\"16829\":\"Chile\",\"21545\":\"Chile\",\"30311\":\"Chile\",\"31810\":\"Chile\",\"31816\":\"Chile\"},\"variety\":{\"26\":\"White Wine\",\"2214\":\"White Wine\",\"8451\":\"White Wine\",\"8454\":\"White Wine\",\"8456\":\"White Wine\",\"8476\":\"White Wine\",\"15397\":\"White Wine\",\"15400\":\"White Wine\",\"15521\":\"White Wine\",\"16829\":\"White Wine\",\"21545\":\"White Wine\",\"30311\":\"White Wine\",\"31810\":\"White Wine\",\"31816\":\"White Wine\"},\"rating\":{\"26\":91.0,\"2214\":91.0,\"8451\":95.0,\"8454\":94.0,\"8456\":91.0,\"8476\":91.0,\"15397\":91.0,\"15400\":91.0,\"15521\":92.0,\"16829\":92.0,\"21545\":91.0,\"30311\":91.0,\"31810\":91.0,\"31816\":91.0},\"notes\":{\"26\":\"Almost transparent pale yellow, young, with green shades.Intense and delicate nose. This Sauvignon Blanc stand our for its freshness and complexity, mainly marked by citric fruits, such as grapefruit and lime, tropical fruits, and mineral notes.Fresh on the palate, fresh fruits, well-balanced, mineral, good acidity and volume, long finish.\",\"2214\":\"With the great aromatic intensity typical of a cool-climate wine, this wine shows fresh herb aromas over its fruit. Notes of tomato leaf mingle with fresh green chili (capsicum) and asparagus, all complemented by delicate citrus and mineral traces. On the palate, this is a fresh yet elegant wine with mineral and citrus flavors. The wine has a character that is easy to understand and a pleasure to drink.  \",\"8451\":\"\\\\\"From a granitic slope facing the Pacific Ocean, in the small town of Lo Abarca, this vintage of Cipreses is all about the place - its sharp and severe minerality coming from the soil, its salinity from the sea breezes. Large in scale, ample in flavor and generous in acidity, this is the best Chilean sauvignon of the vintage.\\\\\"\",\"8454\":\"The Laurel Vineyard located on a hillside slope 4 kilometers from the ocean. Very windy area of calcareous and very poor clay soil; never cultivated prior to our plantation. During the winter and fall, morning fog from the ocean lasts until noontime.\",\"8456\":\"The Laurel Vineyard located on a hillside slope 4 kilometers from the ocean. Very windy area of calcareous and very poor clay soil; never cultivated prior to our plantation. During the winter and fall, morning fog from the ocean lasts until noontime.  \",\"8476\":\"Expressive and elegant with loads of white flower aromas. It is fresh and firm feeling, and it strikes a balance between tropical fruit and vibrant acidity. Pair it with fresh shellfish at the raw bar, lobster rolls, or ceviche.\",\"15397\":\"\\\\\"Bold, with lots of spice and toast notes laying over ripe pear tartine, fig and mango flavors.  The fruit stays lush on the finish, while a stony underpinning keeps it all honest\\\\\"\",\"15400\":\"Color: Light, golden yellow. \",\"15521\":\"The strong Pacific Ocean influence and red clayish soils concur to foster this refreshing, crisp, pale yellow-green wine. In nose, very fine grapefruit, white flowers and citric hints combine with a perfect mineral character. It\\'s an expressive Sauvignon Blanc, with a mineral and slightly salty mouth, with great acidity and a lovely long finish.\",\"16829\":\"Viejas Tinajas comes from the coastal vineyards of the Itata Valley located in the southern region of Chile; it is the cradle of the country\\'s viticulture, with vines dating back to 1551. The area is characterized by a coastal climate, with high levels of rainfall, rolling hills and granite soils. A sustainable agriculture, including dry farming and ploughing with horses are practiced in our vineyards. This wine is fermented and aged in centennial earthenware jars (tinajas or amphorae), thereby rescuing the tradition of the first Chilean vine growers. \",\"21545\":\"Very pale and slightly greenish-yellow in colour with aromas of tropical fruit such as cherimoya, notes of green apple, and a nice balance between the fruit and the variety\\'s herbaceous characteristics. The crisp acidity on the fresh palate heightens the tropical notes, although the nose features a more herbal profile. It is medium-bodied and has a pleasing persistence on the finish. \",\"30311\":null,\"31810\":\"Attractive, brilliant golden-yellow color. Very complex, elegant and clean nose, with tropical fruits, pineapple and asparagus nuances, well married with honey and toasty notes coming from a fine and well integrated wood. Dense, rich and creamy in the mouth, with a well balanced acidity that makes it alive and fresh, with a very pleasant and persisting finish. A Casablanca wine of great personality, involving and filling.\",\"31816\":\"Bright pale golden yellow with clean light lime notes. Intense fruit aromas mainly sweet citric style such as mandarin and tangerine, with elegant sweet touches of spices and white flowers. Elegant and concentrated. The mouth attack is rich and with a light creaminess, but with a crisp and fresh acidity at the mid palate. Long and pleasant at the finish with more sweet citric aromas.\"}}'"
      ]
     },
     "execution_count": 75,
     "metadata": {},
     "output_type": "execute_result"
    }
   ],
   "source": [
    "json_data"
   ]
  },
  {
   "cell_type": "code",
   "execution_count": 66,
   "id": "24344592",
   "metadata": {},
   "outputs": [],
   "source": [
    "with open(\"datos_vino_json\",\"w\") as f:\n",
    "    json.dump(json_data, f)"
   ]
  },
  {
   "cell_type": "code",
   "execution_count": null,
   "id": "09e80d89",
   "metadata": {},
   "outputs": [],
   "source": []
  },
  {
   "cell_type": "code",
   "execution_count": 68,
   "id": "8d5eadc5",
   "metadata": {},
   "outputs": [],
   "source": [
    "diccionario_json=json.loads(json_data)"
   ]
  },
  {
   "cell_type": "code",
   "execution_count": 69,
   "id": "6ba1afbf",
   "metadata": {},
   "outputs": [
    {
     "data": {
      "text/plain": [
       "{'Unnamed: 0': {'26': 26,\n",
       "  '2214': 2214,\n",
       "  '8451': 8451,\n",
       "  '8454': 8454,\n",
       "  '8456': 8456,\n",
       "  '8476': 8476,\n",
       "  '15397': 15397,\n",
       "  '15400': 15400,\n",
       "  '15521': 15521,\n",
       "  '16829': 16829,\n",
       "  '21545': 21545,\n",
       "  '30311': 30311,\n",
       "  '31810': 31810,\n",
       "  '31816': 31816},\n",
       " 'name': {'26': '1865 Single Vineyard Sauvignon Blanc 2011',\n",
       "  '2214': 'Arboleda Sauvignon Blanc 2008',\n",
       "  '8451': 'Casa Marin Cipreses Vineyard Sauvignon Blanc 2007',\n",
       "  '8454': 'Casa Marin Laurel Vineyard Sauvignon Blanc 2007',\n",
       "  '8456': 'Casa Marin Laurel Vineyard Sauvignon Blanc 2009',\n",
       "  '8476': 'Casa Silva Sauvignon Gris 2012',\n",
       "  '15397': 'Concha y Toro Marques de Casa Concha Chardonnay 2002',\n",
       "  '15400': 'Concha y Toro Marques de Casa Concha Chardonnay 2005',\n",
       "  '15521': 'Cono Sur Vision Sauvignon Blanc 2011',\n",
       "  '16829': 'De Martino Viejas Tinajas Muscat 2015',\n",
       "  '21545': 'Errazuriz Sauvignon Blanc 2009',\n",
       "  '30311': 'Kingston Family Cariblanco Sauvignon Blanc 2012',\n",
       "  '31810': 'Lapostolle Cuvee Alexandre Chardonnay 1999',\n",
       "  '31816': 'Lapostolle Cuvee Alexandre Chardonnay 2007'},\n",
       " 'grape': {'26': None,\n",
       "  '2214': None,\n",
       "  '8451': None,\n",
       "  '8454': None,\n",
       "  '8456': None,\n",
       "  '8476': None,\n",
       "  '15397': None,\n",
       "  '15400': None,\n",
       "  '15521': None,\n",
       "  '16829': None,\n",
       "  '21545': None,\n",
       "  '30311': None,\n",
       "  '31810': None,\n",
       "  '31816': None},\n",
       " 'region': {'26': 'Chile',\n",
       "  '2214': 'Chile',\n",
       "  '8451': 'Chile',\n",
       "  '8454': 'Chile',\n",
       "  '8456': 'Chile',\n",
       "  '8476': 'Chile',\n",
       "  '15397': 'Chile',\n",
       "  '15400': 'Chile',\n",
       "  '15521': 'Chile',\n",
       "  '16829': 'Chile',\n",
       "  '21545': 'Chile',\n",
       "  '30311': 'Chile',\n",
       "  '31810': 'Chile',\n",
       "  '31816': 'Chile'},\n",
       " 'variety': {'26': 'White Wine',\n",
       "  '2214': 'White Wine',\n",
       "  '8451': 'White Wine',\n",
       "  '8454': 'White Wine',\n",
       "  '8456': 'White Wine',\n",
       "  '8476': 'White Wine',\n",
       "  '15397': 'White Wine',\n",
       "  '15400': 'White Wine',\n",
       "  '15521': 'White Wine',\n",
       "  '16829': 'White Wine',\n",
       "  '21545': 'White Wine',\n",
       "  '30311': 'White Wine',\n",
       "  '31810': 'White Wine',\n",
       "  '31816': 'White Wine'},\n",
       " 'rating': {'26': 91.0,\n",
       "  '2214': 91.0,\n",
       "  '8451': 95.0,\n",
       "  '8454': 94.0,\n",
       "  '8456': 91.0,\n",
       "  '8476': 91.0,\n",
       "  '15397': 91.0,\n",
       "  '15400': 91.0,\n",
       "  '15521': 92.0,\n",
       "  '16829': 92.0,\n",
       "  '21545': 91.0,\n",
       "  '30311': 91.0,\n",
       "  '31810': 91.0,\n",
       "  '31816': 91.0},\n",
       " 'notes': {'26': 'Almost transparent pale yellow, young, with green shades.Intense and delicate nose. This Sauvignon Blanc stand our for its freshness and complexity, mainly marked by citric fruits, such as grapefruit and lime, tropical fruits, and mineral notes.Fresh on the palate, fresh fruits, well-balanced, mineral, good acidity and volume, long finish.',\n",
       "  '2214': 'With the great aromatic intensity typical of a cool-climate wine, this wine shows fresh herb aromas over its fruit. Notes of tomato leaf mingle with fresh green chili (capsicum) and asparagus, all complemented by delicate citrus and mineral traces. On the palate, this is a fresh yet elegant wine with mineral and citrus flavors. The wine has a character that is easy to understand and a pleasure to drink.  ',\n",
       "  '8451': '\"From a granitic slope facing the Pacific Ocean, in the small town of Lo Abarca, this vintage of Cipreses is all about the place - its sharp and severe minerality coming from the soil, its salinity from the sea breezes. Large in scale, ample in flavor and generous in acidity, this is the best Chilean sauvignon of the vintage.\"',\n",
       "  '8454': 'The Laurel Vineyard located on a hillside slope 4 kilometers from the ocean. Very windy area of calcareous and very poor clay soil; never cultivated prior to our plantation. During the winter and fall, morning fog from the ocean lasts until noontime.',\n",
       "  '8456': 'The Laurel Vineyard located on a hillside slope 4 kilometers from the ocean. Very windy area of calcareous and very poor clay soil; never cultivated prior to our plantation. During the winter and fall, morning fog from the ocean lasts until noontime.  ',\n",
       "  '8476': 'Expressive and elegant with loads of white flower aromas. It is fresh and firm feeling, and it strikes a balance between tropical fruit and vibrant acidity. Pair it with fresh shellfish at the raw bar, lobster rolls, or ceviche.',\n",
       "  '15397': '\"Bold, with lots of spice and toast notes laying over ripe pear tartine, fig and mango flavors.  The fruit stays lush on the finish, while a stony underpinning keeps it all honest\"',\n",
       "  '15400': 'Color: Light, golden yellow. ',\n",
       "  '15521': \"The strong Pacific Ocean influence and red clayish soils concur to foster this refreshing, crisp, pale yellow-green wine. In nose, very fine grapefruit, white flowers and citric hints combine with a perfect mineral character. It's an expressive Sauvignon Blanc, with a mineral and slightly salty mouth, with great acidity and a lovely long finish.\",\n",
       "  '16829': \"Viejas Tinajas comes from the coastal vineyards of the Itata Valley located in the southern region of Chile; it is the cradle of the country's viticulture, with vines dating back to 1551. The area is characterized by a coastal climate, with high levels of rainfall, rolling hills and granite soils. A sustainable agriculture, including dry farming and ploughing with horses are practiced in our vineyards. This wine is fermented and aged in centennial earthenware jars (tinajas or amphorae), thereby rescuing the tradition of the first Chilean vine growers. \",\n",
       "  '21545': \"Very pale and slightly greenish-yellow in colour with aromas of tropical fruit such as cherimoya, notes of green apple, and a nice balance between the fruit and the variety's herbaceous characteristics. The crisp acidity on the fresh palate heightens the tropical notes, although the nose features a more herbal profile. It is medium-bodied and has a pleasing persistence on the finish. \",\n",
       "  '30311': None,\n",
       "  '31810': 'Attractive, brilliant golden-yellow color. Very complex, elegant and clean nose, with tropical fruits, pineapple and asparagus nuances, well married with honey and toasty notes coming from a fine and well integrated wood. Dense, rich and creamy in the mouth, with a well balanced acidity that makes it alive and fresh, with a very pleasant and persisting finish. A Casablanca wine of great personality, involving and filling.',\n",
       "  '31816': 'Bright pale golden yellow with clean light lime notes. Intense fruit aromas mainly sweet citric style such as mandarin and tangerine, with elegant sweet touches of spices and white flowers. Elegant and concentrated. The mouth attack is rich and with a light creaminess, but with a crisp and fresh acidity at the mid palate. Long and pleasant at the finish with more sweet citric aromas.'}}"
      ]
     },
     "execution_count": 69,
     "metadata": {},
     "output_type": "execute_result"
    }
   ],
   "source": [
    "diccionario_json"
   ]
  },
  {
   "cell_type": "code",
   "execution_count": 70,
   "id": "769c90b5",
   "metadata": {},
   "outputs": [],
   "source": [
    "with open(\"diccionario_vino_json\",\"w\") as f:\n",
    "    json.dump(diccionario_json, f)"
   ]
  },
  {
   "cell_type": "code",
   "execution_count": 71,
   "id": "906bfe76",
   "metadata": {},
   "outputs": [
    {
     "data": {
      "text/plain": [
       "dict"
      ]
     },
     "execution_count": 71,
     "metadata": {},
     "output_type": "execute_result"
    }
   ],
   "source": [
    "type(diccionario_json)"
   ]
  },
  {
   "cell_type": "code",
   "execution_count": null,
   "id": "a70134d1",
   "metadata": {},
   "outputs": [],
   "source": []
  }
 ],
 "metadata": {
  "kernelspec": {
   "display_name": "Python 3 (ipykernel)",
   "language": "python",
   "name": "python3"
  },
  "language_info": {
   "codemirror_mode": {
    "name": "ipython",
    "version": 3
   },
   "file_extension": ".py",
   "mimetype": "text/x-python",
   "name": "python",
   "nbconvert_exporter": "python",
   "pygments_lexer": "ipython3",
   "version": "3.9.7"
  }
 },
 "nbformat": 4,
 "nbformat_minor": 5
}
